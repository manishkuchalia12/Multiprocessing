{
 "cells": [
  {
   "cell_type": "markdown",
   "id": "edcac8cc-d11b-4aed-b4ee-4d6cab6bdb3d",
   "metadata": {},
   "source": [
    "Q1. What is multiprocessing in python? Why is it useful?"
   ]
  },
  {
   "cell_type": "markdown",
   "id": "110932c8-1b70-44ab-8a7f-f271370520f6",
   "metadata": {},
   "source": [
    "Ans:-Multiprocessing in Python refers to the capability of a program to execute multiple processes concurrently. It involves running multiple processes simultaneously, each with its own Python interpreter and memory space.\n",
    "\n",
    "why useful:-\r\n",
    "Multiprocessing in Python is useful for several reason\n",
    "1.Improved Performance\n",
    "2.Parallel Execution\n",
    "3.Scalability\n",
    "4.isolations"
   ]
  },
  {
   "cell_type": "markdown",
   "id": "e7f8988c-ba87-42e9-b941-5f406469d90a",
   "metadata": {},
   "source": [
    "Q2. What are the differences between multiprocessing and multithreading?\n",
    "Ans:-\n",
    "Multiprocessing: Involves the execution of multiple processes, each with its own memory space and Python interpreter. Processes run independently and can utilize multiple CPU cores.\n",
    "Multithreading: Involves the execution of multiple threads within the same process. Threads share the same memory space and Python interpreter.\n",
    "Multiprocessing: Processes are isolated, running independently with their own memory space. If one process fails, it does not affect others.\r\n",
    "Multithreading: Threads share the same memory space. Issues such as race conditions and data corruption can occur if proper synchronization mechanisms are not used\n",
    "Multiprocessing: Each process has its own GIL, allowing true parallel execution of Python code on multiple CPU cores.\r\n",
    "Multithreading: Threads within the same process share the same GIL, limiting the parallel execution of Python code. This can be a bottleneck in CPU-bound tasks\n",
    "Multiprocessing: Well-suited for CPU-bound tasks that can be divided into independent subtasks. Provides better performance on machines with multiple processors or cores.\r\n",
    "Multithreading: Suitable for I/O-bound tasks where threads can wait for I/O operations without blocking the entire process. May not provide significant performance improvements for CPU-bound tasks due to the GIL..."
   ]
  },
  {
   "cell_type": "markdown",
   "id": "917df8be-adfb-45a2-958e-2b6f837b3ca4",
   "metadata": {},
   "source": [
    "Q3. Write a python code to create a process using the multiprocessing module."
   ]
  },
  {
   "cell_type": "code",
   "execution_count": 1,
   "id": "b4a9a9f9-fb0e-4727-a6bd-362e2a4fd55d",
   "metadata": {},
   "outputs": [
    {
     "name": "stdout",
     "output_type": "stream",
     "text": [
      "Main process continues to execute independently.\n"
     ]
    }
   ],
   "source": [
    "import multiprocessing\n",
    "import time\n",
    "\n",
    "\n",
    "def print_numbers():\n",
    "    for i in range(5):\n",
    "        time.sleep(1)  \n",
    "        print(f\"Process: {multiprocessing.current_process().name}, Number: {i}\")\n",
    "\n",
    "if __name__ == \"__main__\":\n",
    "    my_process = multiprocessing.Process(target=print_numbers)\n",
    "\n",
    "    my_process.start()\n",
    "    my_process.join()\n",
    "\n",
    "    print(\"Main process continues to execute independently.\")\n"
   ]
  },
  {
   "cell_type": "markdown",
   "id": "fa6d1d73-94db-42c6-a736-9769433096d3",
   "metadata": {},
   "source": [
    "Q4. What is a multiprocessing pool in python? why use ?\n",
    "Ans:-A multiprocessing pool in Python refers to a collection of worker processes that can be used to parallelize the execution of a function across a large set of input values. The multiprocessing module provides the Pool class to create and manage such pools.\n",
    "why use:- 1.Parallel Execution\n",
    "2.Utilizing Multiple Cores\n",
    "3.Scalability"
   ]
  },
  {
   "cell_type": "markdown",
   "id": "5e10ff93-72b8-4ae0-a026-15bff2deaf86",
   "metadata": {},
   "source": [
    "Q5. How can we create a pool of worker processes in python using the multiprocessing module?\n",
    "Ans:-Creating a pool of worker processes in Python using the multiprocessing module involves instantiating the Pool class. Here's a step-by-step guide on how to create and use a pool of worker processes:\n",
    "1.Import the multiprocessing module:\r\n",
    "Start by importing the multiprocessing module in your Python script\n",
    "2.Define a function that will be executed by the worker processes:\n",
    "3.Create a Pool of worker processes.\n"
   ]
  },
  {
   "cell_type": "code",
   "execution_count": null,
   "id": "ca307254-c258-49b9-b356-8079057c352e",
   "metadata": {},
   "outputs": [],
   "source": [
    " ##Write a python program to create 4 processes, each process should print a different number using the multiprocessing module in python.\n",
    "import multiprocessinger\r\n",
    "def print_number(number):\r\n",
    "    print(f\"Process {number}: {number}\")\r\n",
    "\r\n",
    "if __name__ == \"__manumbers\r\n",
    "    numbers = [1, ss objects\r\n",
    "    pror each number\r\n",
    "    for num in numbers:\r\n",
    "        process = multiprocessing.Process(target=print_number, args=(num,))\r\n",
    "        processes.append(process)\r\n",
    "      processes to finish\r\n",
    "    for process in processes:\r\n",
    "        process.join()\r\n",
    "\r\n",
    "    print(\"Main process continues to execute independently.\")\r\n"
   ]
  }
 ],
 "metadata": {
  "kernelspec": {
   "display_name": "Python 3 (ipykernel)",
   "language": "python",
   "name": "python3"
  },
  "language_info": {
   "codemirror_mode": {
    "name": "ipython",
    "version": 3
   },
   "file_extension": ".py",
   "mimetype": "text/x-python",
   "name": "python",
   "nbconvert_exporter": "python",
   "pygments_lexer": "ipython3",
   "version": "3.12.0"
  }
 },
 "nbformat": 4,
 "nbformat_minor": 5
}
